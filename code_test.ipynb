{
 "cells": [
  {
   "cell_type": "markdown",
   "metadata": {},
   "source": [
    "## analisis de estructuras generadoras"
   ]
  },
  {
   "cell_type": "code",
   "execution_count": 27,
   "metadata": {},
   "outputs": [
    {
     "name": "stdout",
     "output_type": "stream",
     "text": [
      "holas\n"
     ]
    }
   ],
   "source": [
    "print('holas')"
   ]
  },
  {
   "cell_type": "code",
   "execution_count": 28,
   "metadata": {},
   "outputs": [],
   "source": [
    "class StringManipulator:\n",
    "    def __init__(self, texto):\n",
    "        self.texto = texto\n",
    "\n",
    "    def concatenar(self, otro_texto):\n",
    "        \"\"\"Concatenar el texto actual con otro texto.\"\"\"\n",
    "        self.texto += otro_texto\n",
    "        return self.texto\n",
    "\n",
    "    def contar_vocales(self):\n",
    "        \"\"\"Contar el número de vocales en el texto.\"\"\"\n",
    "        vocales = \"aeiouAEIOU\"\n",
    "        return sum(1 for char in self.texto if char in vocales)\n",
    "\n",
    "    def invertir(self):\n",
    "        \"\"\"Invertir el texto actual.\"\"\"\n",
    "        return self.texto[::-1]\n",
    "\n",
    "    def eliminar_duplicados(self):\n",
    "        \"\"\"Eliminar caracteres duplicados en el texto.\"\"\"\n",
    "        return ''.join(sorted(set(self.texto), key=self.texto.index))\n",
    "\n",
    "    def frecuencia_caracteres(self):\n",
    "        \"\"\"Contar la frecuencia de cada carácter en el texto.\"\"\"\n",
    "        from collections import Counter\n",
    "        return Counter(self.texto)\n",
    "\n",
    "    def es_palindromo(self):\n",
    "        \"\"\"Verificar si el texto es un palíndromo.\"\"\"\n",
    "        return self.texto == self.texto[::-1]\n",
    "\n",
    "    def contar_palabras(self):\n",
    "        \"\"\"Contar el número de palabras en el texto.\"\"\"\n",
    "        return len(self.texto.split())\n",
    "\n",
    "    def reemplazar(self, viejo, nuevo):\n",
    "        \"\"\"Reemplazar una subcadena por otra en el texto.\"\"\"\n",
    "        self.texto = self.texto.replace(viejo, nuevo)\n",
    "        return self.texto\n",
    "\n",
    "    def formato_mayusculas(self):\n",
    "        \"\"\"Convertir el texto a mayúsculas.\"\"\"\n",
    "        return self.texto.upper()\n",
    "\n",
    "    def formato_minusculas(self):\n",
    "        \"\"\"Convertir el texto a minúsculas.\"\"\"\n",
    "        return self.texto.lower()\n",
    "\n",
    "    def a_titulo(self):\n",
    "        \"\"\"Convertir el texto a formato título.\"\"\"\n",
    "        return self.texto.title()\n"
   ]
  },
  {
   "cell_type": "code",
   "execution_count": 29,
   "metadata": {},
   "outputs": [
    {
     "name": "stdout",
     "output_type": "stream",
     "text": [
      "concatenar = hola soy Isra qchaow\n",
      "contar_vocales = 7\n",
      "inverir : woahcq arsI yos aloh\n"
     ]
    },
    {
     "data": {
      "text/plain": [
       "'woahcq arsI yos aloh'"
      ]
     },
     "execution_count": 29,
     "metadata": {},
     "output_type": "execute_result"
    }
   ],
   "source": [
    "textObj = StringManipulator(\"hola soy Isra\")\n",
    "\n",
    "print(f'concatenar = {textObj.concatenar(\" qchaow\")}')\n",
    "\n",
    "print(f'contar_vocales = {textObj.contar_vocales()}')\n",
    "\n",
    "print(f'inverir : {textObj.invertir()}')\n",
    "textObj.invertir()\n",
    "#print(textObj.texto)\n"
   ]
  },
  {
   "cell_type": "markdown",
   "metadata": {},
   "source": [
    "ListCompre"
   ]
  },
  {
   "cell_type": "code",
   "execution_count": 30,
   "metadata": {},
   "outputs": [
    {
     "name": "stdout",
     "output_type": "stream",
     "text": [
      "['manzana', 'plátano', 'uva', 'pera', 'mango']\n"
     ]
    }
   ],
   "source": [
    "palabras = [\"manzana\", \"plátano\", \"rex \",\"uva\", \"pera\", \"mango\", \"compu\"]\n",
    "palabras_con_a = [palabra for palabra in palabras if \"a\" in palabra]\n",
    "print(palabras_con_a)  # Salida: ['manzana', 'plátano', 'uva', 'mango']\n"
   ]
  },
  {
   "cell_type": "code",
   "execution_count": 31,
   "metadata": {},
   "outputs": [
    {
     "name": "stdout",
     "output_type": "stream",
     "text": [
      "1\n",
      "4\n",
      "9\n"
     ]
    }
   ],
   "source": [
    "cuadrados_gen = (x**2 for x in range(1, 10))\n",
    "for cuadrado in cuadrados_gen:\n",
    "    if cuadrado > 10:\n",
    "        break\n",
    "    print(cuadrado)  # Salida: 1, 4, 9, 16... (hasta 1000)\n"
   ]
  },
  {
   "cell_type": "code",
   "execution_count": 32,
   "metadata": {},
   "outputs": [
    {
     "name": "stdout",
     "output_type": "stream",
     "text": [
      "25\n",
      "36\n",
      "49\n",
      "64\n",
      "81\n"
     ]
    }
   ],
   "source": [
    "for cuadrado in cuadrados_gen:\n",
    "    print(cuadrado) "
   ]
  },
  {
   "cell_type": "code",
   "execution_count": 33,
   "metadata": {},
   "outputs": [
    {
     "name": "stdout",
     "output_type": "stream",
     "text": [
      "Descuento aplicado: $90.00\n",
      "Descuento aplicado: $225.00\n",
      "Descuento aplicado: $135.00\n"
     ]
    }
   ],
   "source": [
    "productos = [100.0, 250.0, 150.0, 50.0, 300.0]  # Simulando precios\n",
    "descuentos = (precio * 0.9 for precio in productos)  # Generador que aplica el descuento (precio - 10% = 90%)\n",
    "\n",
    "# Usamos el generador, procesando sólo los descuentos que necesitamos, por ejemplo, los primeros 3\n",
    "for i, descuento in enumerate(descuentos):\n",
    "    if i >= 3:  # Limitando solo a los primeros 3 productos\n",
    "        break\n",
    "    print(f\"Descuento aplicado: ${descuento:.2f}\")\n"
   ]
  },
  {
   "cell_type": "code",
   "execution_count": 34,
   "metadata": {},
   "outputs": [
    {
     "ename": "NameError",
     "evalue": "name 'guardar_en_base_datos' is not defined",
     "output_type": "error",
     "traceback": [
      "\u001b[0;31m---------------------------------------------------------------------------\u001b[0m",
      "\u001b[0;31mNameError\u001b[0m                                 Traceback (most recent call last)",
      "Cell \u001b[0;32mIn[34], line 26\u001b[0m\n\u001b[1;32m     24\u001b[0m \u001b[38;5;66;03m# El comportamiento del usuario determina su descuento personalizado\u001b[39;00m\n\u001b[1;32m     25\u001b[0m comportamiento_usuario \u001b[38;5;241m=\u001b[39m \u001b[38;5;241m0.15\u001b[39m  \u001b[38;5;66;03m# Este usuario tiene un descuento del 15%\u001b[39;00m\n\u001b[0;32m---> 26\u001b[0m \u001b[43mcarrito_usuario\u001b[49m\u001b[38;5;241;43m.\u001b[39;49m\u001b[43mprocesar_compra\u001b[49m\u001b[43m(\u001b[49m\u001b[43mcomportamiento_usuario\u001b[49m\u001b[43m)\u001b[49m\n",
      "Cell \u001b[0;32mIn[34], line 16\u001b[0m, in \u001b[0;36mCarrito.procesar_compra\u001b[0;34m(self, comportamiento_usuario)\u001b[0m\n\u001b[1;32m     12\u001b[0m precios_finales \u001b[38;5;241m=\u001b[39m \u001b[38;5;28mself\u001b[39m\u001b[38;5;241m.\u001b[39mcalcular_descuento(comportamiento_usuario)\n\u001b[1;32m     14\u001b[0m \u001b[38;5;28;01mfor\u001b[39;00m precio \u001b[38;5;129;01min\u001b[39;00m precios_finales:\n\u001b[1;32m     15\u001b[0m     \u001b[38;5;66;03m# Solo se guarda el precio final en la base de datos en el momento de la compra\u001b[39;00m\n\u001b[0;32m---> 16\u001b[0m     \u001b[43mguardar_en_base_datos\u001b[49m(precio)\n\u001b[1;32m     17\u001b[0m     \u001b[38;5;28mprint\u001b[39m(\u001b[38;5;124mf\u001b[39m\u001b[38;5;124m\"\u001b[39m\u001b[38;5;124mPrecio final del producto comprado: $\u001b[39m\u001b[38;5;132;01m{\u001b[39;00mprecio\u001b[38;5;132;01m:\u001b[39;00m\u001b[38;5;124m.2f\u001b[39m\u001b[38;5;132;01m}\u001b[39;00m\u001b[38;5;124m\"\u001b[39m)\n",
      "\u001b[0;31mNameError\u001b[0m: name 'guardar_en_base_datos' is not defined"
     ]
    }
   ],
   "source": [
    "class Carrito:\n",
    "    def __init__(self, productos, descuento_maximo):\n",
    "        self.productos = productos\n",
    "        self.descuento_maximo = descuento_maximo\n",
    "\n",
    "    def calcular_descuento(self, comportamiento_usuario):\n",
    "        # Generador de precios con descuento basado en el comportamiento del usuario\n",
    "        return (precio * (1 - min(comportamiento_usuario, self.descuento_maximo))\n",
    "                for precio in self.productos)\n",
    "\n",
    "    def procesar_compra(self, comportamiento_usuario):\n",
    "        precios_finales = self.calcular_descuento(comportamiento_usuario)\n",
    "        \n",
    "        for precio in precios_finales:\n",
    "            # Solo se guarda el precio final en la base de datos en el momento de la compra\n",
    "            guardar_en_base_datos(precio)\n",
    "            print(f\"Precio final del producto comprado: ${precio:.2f}\")\n",
    "\n",
    "# Ejemplo de uso\n",
    "productos = [100.0, 200.0, 150.0]  # Precios de productos en el carrito\n",
    "descuento_maximo = 0.2  # Descuento máximo permitido del 20%\n",
    "carrito_usuario = Carrito(productos, descuento_maximo)\n",
    "\n",
    "# El comportamiento del usuario determina su descuento personalizado\n",
    "comportamiento_usuario = 0.15  # Este usuario tiene un descuento del 15%\n",
    "carrito_usuario.procesar_compra(comportamiento_usuario)\n"
   ]
  },
  {
   "cell_type": "markdown",
   "metadata": {},
   "source": [
    "## List Comprehension\n",
    "##### Acceso completo a la lista: Al crear la lista de productos más vendidos de una sola vez, se puede manipular y acceder en cualquier momento, sin necesidad de volver a calcular.\n",
    "\n",
    "Caso: Obtener una lista de los productos más vendidos para mostrar en la página de inicio.\n",
    "\n",
    "Supongamos que tenemos una lista de todos los productos vendidos, y queremos extraer solo los que superan cierto umbral de ventas para mostrarlos en la página de inicio. En este caso, queremos obtener y manipular todos estos datos a la vez (tal vez para hacer estadísticas adicionales), así que una list comprehension es conveniente."
   ]
  },
  {
   "cell_type": "code",
   "execution_count": 35,
   "metadata": {},
   "outputs": [
    {
     "name": "stdout",
     "output_type": "stream",
     "text": [
      "Productos más vendidos: ['Producto C', 'Producto D']\n"
     ]
    }
   ],
   "source": [
    "ventas = [\n",
    "    {\"nombre\": \"Producto A\", \"ventas\": 1000},\n",
    "    {\"nombre\": \"Producto B\", \"ventas\": 200},\n",
    "    {\"nombre\": \"Producto C\", \"ventas\": 5000},\n",
    "    {\"nombre\": \"Producto D\", \"ventas\": 1500},\n",
    "    {\"nombre\": \"Producto E\", \"ventas\": 750},\n",
    "]\n",
    "\n",
    "# List comprehension para obtener productos con más de 1000 ventas\n",
    "mas_vendidos = [producto[\"nombre\"] for producto in ventas if producto[\"ventas\"] > 1000]\n",
    "\n",
    "print(\"Productos más vendidos:\", mas_vendidos)\n"
   ]
  },
  {
   "cell_type": "code",
   "execution_count": null,
   "metadata": {},
   "outputs": [],
   "source": []
  }
 ],
 "metadata": {
  "kernelspec": {
   "display_name": "Python 3",
   "language": "python",
   "name": "python3"
  },
  "language_info": {
   "codemirror_mode": {
    "name": "ipython",
    "version": 3
   },
   "file_extension": ".py",
   "mimetype": "text/x-python",
   "name": "python",
   "nbconvert_exporter": "python",
   "pygments_lexer": "ipython3",
   "version": "3.12.6"
  }
 },
 "nbformat": 4,
 "nbformat_minor": 2
}
